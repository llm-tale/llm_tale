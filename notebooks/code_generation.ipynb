{
 "cells": [
  {
   "cell_type": "code",
   "execution_count": null,
   "metadata": {},
   "outputs": [],
   "source": [
    "import openai\n",
    "from llm_tale.llm_planners import prompt_folder\n",
    "from llm_tale.llm_planners.utils.plan_utils import (\n",
    "    prompt_task_planner,\n",
    "    prompt_affordance_identifier,\n",
    "    prompt_affordance_planner,\n",
    "    prompt_code_translator,\n",
    ")\n",
    "\n",
    "openai.api_key = \"YOUR_API_KEY\"  # Replace with your OpenAI API key"
   ]
  },
  {
   "cell_type": "code",
   "execution_count": 2,
   "metadata": {},
   "outputs": [
    {
     "name": "stderr",
     "output_type": "stream",
     "text": [
      "Gym has been unmaintained since 2022 and does not support NumPy 2.0 amongst other critical functionality.\n",
      "Please upgrade to Gymnasium, the maintained drop-in replacement of Gym, or contact the authors of your software and request that they upgrade.\n",
      "Users of this version of Gym should be able to simply replace 'import gym' with 'import gymnasium as gym' in the vast majority of cases.\n",
      "See the migration guide at https://gymnasium.farama.org/introduction/migration_guide/ for additional information.\n",
      "/home/jelle/llm_tale/.venv/lib/python3.10/site-packages/sapien/__init__.py:2: UserWarning: pkg_resources is deprecated as an API. See https://setuptools.pypa.io/en/latest/pkg_resources.html. The pkg_resources package is slated for removal as early as 2025-11-30. Refrain from using this package or pin to Setuptools<81.\n",
      "  import pkg_resources\n"
     ]
    },
    {
     "name": "stdout",
     "output_type": "stream",
     "text": [
      "Task:  PegInsert\n",
      "Instruction:  insert the peg into the hole\n",
      "\n",
      "Objects:\n",
      "    Peg = Object( # a peg is laying on the ground\n",
      "        position, \n",
      "        orientation, # x-axis as center axis\n",
      "        attributes=[head, end])\n",
      "    Hole = Object(\n",
      "        position, \n",
      "        orientation, # x-axis as center axis\n",
      "        attributes=None) \n",
      "\n"
     ]
    }
   ],
   "source": [
    "task = \"PegInsert\"\n",
    "model = \"gpt-4o\"\n",
    "\n",
    "if task == \"PegInsert\":\n",
    "    from llm_tale.envs.maniskill_envs.tasks.PegInsert import Instruction, Objects\n",
    "elif task == \"StackCube\":\n",
    "    from llm_tale.envs.maniskill_envs.tasks.StackCube import Instruction, Objects\n",
    "elif task == \"PickCube\":\n",
    "    from llm_tale.envs.maniskill_envs.tasks.PickCube import Instruction, Objects\n",
    "elif task == \"OpenDrawer\":\n",
    "    from llm_tale.envs.rlbench_envs.tasks.OpenDrawer import Instruction, Objects\n",
    "elif task == \"PutBox\":\n",
    "    from llm_tale.envs.rlbench_envs.tasks.PutBox import Instruction, Objects\n",
    "elif task == \"TakeLid\":\n",
    "    from llm_tale.envs.rlbench_envs.tasks.TakeLid import Instruction, Objects\n",
    "\n",
    "print(\"Task: \", task)\n",
    "print(\"Instruction: \", Instruction)\n",
    "print(Objects)"
   ]
  },
  {
   "cell_type": "code",
   "execution_count": 3,
   "metadata": {},
   "outputs": [
    {
     "name": "stdout",
     "output_type": "stream",
     "text": [
      "{'1': 'robot.pick(Peg)', '2': \"robot.transport(Peg, Hole, 'INSERT')\"}\n",
      "{'1': 'Pick up the peg.', '2': 'Insert the peg into the hole.'}\n"
     ]
    }
   ],
   "source": [
    "# Task planner\n",
    "assert openai.api_key != \"YOUR_API_KEY\", \"Please set your OpenAI API key to generate new plans.\"\n",
    "\n",
    "res = {}\n",
    "response = prompt_task_planner(Instruction, Objects, prompt_folder, verbose=False, model=model)\n",
    "task_plan = \"{\" + response.text.split(\"{\")[1].split(\"}\")[0] + \"}\"\n",
    "res[\"task_plan\"] = eval(task_plan)\n",
    "code = prompt_code_translator(task_plan, Objects, prompt_folder, verbose=False, model=model)\n",
    "_res = \"{\" + code.text.split(\"{\")[1].split(\"}\")[0] + \"}\"\n",
    "res[\"code\"] = eval(_res)\n",
    "\n",
    "print(res[\"code\"])\n",
    "print(res[\"task_plan\"])"
   ]
  },
  {
   "cell_type": "code",
   "execution_count": 4,
   "metadata": {},
   "outputs": [
    {
     "name": "stdout",
     "output_type": "stream",
     "text": [
      "OUTPUT Comments:\n",
      "    Position variation: 2. There are two options (head, end) for picking position.\n",
      "    Orientation variation: None. The peg is lying on the ground, so the robot can only pick it from the top.\n",
      "\n",
      "OUTPUT:\n",
      "{\n",
      "    \"1\": \"pick the peg from the head\",\n",
      "    \"2\": \"pick the peg from the end\",\n",
      "}\n",
      "OUTPUT Comments:\n",
      "    Position variation: None, the head of the peg should be aligned with the hole.\n",
      "    Orientation variation: None, the peg's center axis should be aligned with the hole's center axis for insertion.\n",
      "\n",
      "OUTPUT:\n",
      "{\n",
      "    \"1\": \"insert the peg by aligning its center axis with the hole's center axis, head position should be aligned with the hole position\",\n",
      "}\n"
     ]
    }
   ],
   "source": [
    "# Affordance Identifier\n",
    "assert openai.api_key != \"YOUR_API_KEY\", \"Please set your OpenAI API key to generate new plans.\"\n",
    "\n",
    "aff_space = {}\n",
    "for idx, _step in enumerate(res[\"task_plan\"]):\n",
    "    step = res[\"task_plan\"][_step]\n",
    "    response = prompt_affordance_identifier(step, Objects, prompt_folder, verbose=False, model=model)\n",
    "    _res = \"{\" + response.text.split(\"{\")[1].split(\"}\")[0] + \"}\"\n",
    "    _res = eval(_res)\n",
    "    print(response.text)\n",
    "    if idx == 0:\n",
    "        aff_space[\"pick\"] = _res\n",
    "    elif idx == 1:\n",
    "        aff_space[\"place\"] = _res\n",
    "res[\"aff_space\"] = aff_space\n",
    "pick = aff_space[\"pick\"]"
   ]
  },
  {
   "cell_type": "code",
   "execution_count": 5,
   "metadata": {},
   "outputs": [
    {
     "name": "stdout",
     "output_type": "stream",
     "text": [
      "pick the peg from the head\n",
      "Comments: The peg is lying on the ground, so the robot can only pick it from the top. In this case, we choose ABSOLUTE_VERTICAL as the z-axis for the gripper. Since the peg is a cylindrical object, we choose the major_axis as the x-axis for the gripper.\n",
      "\n",
      "RESPONSE:\n",
      "{\n",
      "    \"gripper position\": \"Peg.head\",\n",
      "    \"gripper ori z_axis\": \"ABSOLUTE_VERTICAL\",\n",
      "    \"gripper ori x_axis\": \"Peg.major_axis\"\n",
      "}\n",
      "pick the peg from the end\n",
      "Comments: The peg is lying on the ground, so the robot can only pick it from the top. In this case, we choose ABSOLUTE_VERTICAL as the z-axis for the gripper. Since the peg is a cylindrical object, we choose the major_axis as the x-axis for the gripper.\n",
      "\n",
      "RESPONSE:\n",
      "{\n",
      "    \"gripper position\": \"Peg.end\",\n",
      "    \"gripper ori z_axis\": \"ABSOLUTE_VERTICAL\",\n",
      "    \"gripper ori x_axis\": \"Peg.major_axis\"\n",
      "}\n",
      "insert the peg by aligning its center axis with the hole's center axis, head position should be aligned with the hole position\n",
      "{\n",
      "    # Comments\n",
      "    # The task is to insert the peg into the hole by aligning their center axes. The peg's head should be aligned with the hole's position.\n",
      "    # The center axis of the peg (x-axis) should be aligned with the center axis of the hole (x-axis).\n",
      "    # The minor_axis of the peg should be aligned with the minor_axis of the hole to ensure correct insertion.\n",
      "    # The robot should approach the hole through the center axis, so the transportation axis is Hole.major_axis.\n",
      "\n",
      "    # position\n",
      "    \"Peg.head\": \"Hole.centroid\",\n",
      "    # orientation\n",
      "    \"Peg.major_axis\": \"Hole.major_axis\",\n",
      "    \"Peg.minor_axis\": \"Hole.minor_axis\",\n",
      "    # transportation axis\n",
      "    \"transportation axis\": \"Hole.major_axis\",\n",
      "}\n"
     ]
    }
   ],
   "source": [
    "# Affordance Planner\n",
    "assert openai.api_key != \"YOUR_API_KEY\", \"Please set your OpenAI API key to generate new plans.\"\n",
    "\n",
    "affordance = {}\n",
    "for k, v in pick.items():\n",
    "    step = v\n",
    "    response = prompt_affordance_planner(step, \"pick\", Objects, prompt_folder, verbose=False, model=model)\n",
    "    _res = \"{\" + response.text.split(\"{\")[1].split(\"}\")[0] + \"}\"\n",
    "    print(v)\n",
    "    print(response.text)\n",
    "    affordance[step] = eval(_res)\n",
    "if \"place\" in aff_space:\n",
    "    place = aff_space[\"place\"]\n",
    "    for k, v in place.items():\n",
    "        step = v\n",
    "        response = prompt_affordance_planner(step, \"transport\", Objects, prompt_folder, verbose=False, model=model)\n",
    "        _res = \"{\" + response.text.split(\"{\")[1].split(\"}\")[0] + \"}\"\n",
    "        print(v)\n",
    "        print(response.text)\n",
    "        affordance[step] = eval(_res)\n",
    "res[\"affordance\"] = affordance"
   ]
  },
  {
   "cell_type": "code",
   "execution_count": 6,
   "metadata": {},
   "outputs": [],
   "source": [
    "import pickle\n",
    "\n",
    "# Save plan\n",
    "save = False  # True to save generated plans\n",
    "\n",
    "if save:\n",
    "    path = f\"../cache/{task.lower()}_code_{model}.pkl\"\n",
    "    print(f\"Saving to {path}\")\n",
    "    with open(path, \"wb\") as f:\n",
    "        pickle.dump(res, f)"
   ]
  },
  {
   "cell_type": "code",
   "execution_count": 7,
   "metadata": {},
   "outputs": [
    {
     "data": {
      "application/vnd.jupyter.widget-view+json": {
       "model_id": "9695a482a0b24283b52b4faf8609be3b",
       "version_major": 2,
       "version_minor": 0
      },
      "text/plain": [
       "Dropdown(description='Select Task:', options=('PegInsert', 'StackCube', 'PickCube', 'OpenDrawer', 'PutBox', 'T…"
      ]
     },
     "metadata": {},
     "output_type": "display_data"
    },
    {
     "data": {
      "application/vnd.jupyter.widget-view+json": {
       "model_id": "310f0d6fb21e43d1b38e25a6bbdb095d",
       "version_major": 2,
       "version_minor": 0
      },
      "text/plain": [
       "Button(description='Show Cache', icon='check', style=ButtonStyle())"
      ]
     },
     "metadata": {},
     "output_type": "display_data"
    },
    {
     "data": {
      "application/vnd.jupyter.widget-view+json": {
       "model_id": "e79e1b9a7026441ba2ba494d9ea25e59",
       "version_major": 2,
       "version_minor": 0
      },
      "text/plain": [
       "Output()"
      ]
     },
     "metadata": {},
     "output_type": "display_data"
    }
   ],
   "source": [
    "import ipywidgets as widgets\n",
    "import pickle\n",
    "from IPython.display import display, clear_output\n",
    "\n",
    "model = \"gpt-4o\"\n",
    "\n",
    "\n",
    "def show_cache(task):\n",
    "    clear_output(wait=True)\n",
    "\n",
    "    if task == \"PegInsert\":\n",
    "        from llm_tale.envs.maniskill_envs.tasks.PegInsert import Instruction, Objects\n",
    "    elif task == \"StackCube\":\n",
    "        from llm_tale.envs.maniskill_envs.tasks.StackCube import Instruction, Objects\n",
    "    elif task == \"PickCube\":\n",
    "        from llm_tale.envs.maniskill_envs.tasks.PickCube import Instruction, Objects\n",
    "    elif task == \"OpenDrawer\":\n",
    "        from llm_tale.envs.rlbench_envs.tasks.OpenDrawer import Instruction, Objects\n",
    "    elif task == \"PutBox\":\n",
    "        from llm_tale.envs.rlbench_envs.tasks.PutBox import Instruction, Objects\n",
    "    elif task == \"TakeLid\":\n",
    "        from llm_tale.envs.rlbench_envs.tasks.TakeLid import Instruction, Objects\n",
    "\n",
    "    print(\"Instruction:\", Instruction)\n",
    "    print(\"Objects:\", Objects)\n",
    "\n",
    "    path = f\"../cache/{task.lower()}_code_{model}.pkl\"\n",
    "    try:\n",
    "        with open(path, \"rb\") as f:\n",
    "            res = pickle.load(f)\n",
    "        for k, v in res[\"affordance\"].items():\n",
    "            print(k)\n",
    "            print(v)\n",
    "    except FileNotFoundError:\n",
    "        print(f\"File not found: {path}\")\n",
    "\n",
    "\n",
    "def create_task_interface(tasks):\n",
    "    task_selector = widgets.Dropdown(\n",
    "        options=tasks,\n",
    "        description=\"Select Task:\",\n",
    "    )\n",
    "\n",
    "    show_button = widgets.Button(description=\"Show Cache\", icon=\"check\")\n",
    "    output_area = widgets.Output()\n",
    "\n",
    "    def on_show_button_clicked(b):\n",
    "        with output_area:\n",
    "            show_cache(task_selector.value)\n",
    "\n",
    "    show_button.on_click(on_show_button_clicked)\n",
    "    display(task_selector, show_button, output_area)\n",
    "\n",
    "\n",
    "# Call the function with the list of tasks\n",
    "create_task_interface([\"PegInsert\", \"StackCube\", \"PickCube\", \"OpenDrawer\", \"PutBox\", \"TakeLid\"])"
   ]
  }
 ],
 "metadata": {
  "kernelspec": {
   "display_name": ".venv",
   "language": "python",
   "name": "python3"
  },
  "language_info": {
   "codemirror_mode": {
    "name": "ipython",
    "version": 3
   },
   "file_extension": ".py",
   "mimetype": "text/x-python",
   "name": "python",
   "nbconvert_exporter": "python",
   "pygments_lexer": "ipython3",
   "version": "3.10.12"
  }
 },
 "nbformat": 4,
 "nbformat_minor": 4
}
